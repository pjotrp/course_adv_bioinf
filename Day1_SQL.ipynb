{
 "cells": [
  {
   "cell_type": "markdown",
   "metadata": {
    "collapsed": false
   },
   "source": [
    "##### Taken from https://github.com/catherinedevlin/ipython-sql\n"
   ]
  },
  {
   "cell_type": "markdown",
   "metadata": {
    "collapsed": false
   },
   "source": [
    "# Examples of using SQL from within a python notebook\n"
   ]
  },
  {
   "cell_type": "code",
   "execution_count": 0,
   "metadata": {
    "collapsed": false
   },
   "outputs": [
   ],
   "source": [
   ]
  },
  {
   "cell_type": "markdown",
   "metadata": {
    "collapsed": false
   },
   "source": [
    "## 3 TABLE JOIN to get 'best employee'\n",
    "```sql\n",
    "SELECT Employees.FirstName, ROUND(SUM(OrderDetails.Quantity*Products.Price),2) AS CASH FROM OrderDetails\n",
    "JOIN Orders\n",
    "ON OrderDetails.OrderID = Orders.OrderID\n",
    "JOIN Employees\n",
    "ON Orders.EmployeeID = Employees.EmployeeID\n",
    "JOIN Products\n",
    "ON OrderDetails.ProductID = Products.ProductID\n",
    "GROUP BY Employees.FirstName\n",
    "ORDER BY CASH DESC;\n",
    "```\n"
   ]
  },
  {
   "cell_type": "markdown",
   "metadata": {
    "collapsed": false
   },
   "source": [
    "## 5 TABLE JOIN to get tofu based income\n",
    "```sql\n",
    "SELECT orderdetails.quantity, products.productname, products.price, employees.firstname\n",
    "FROM orderdetails\n",
    "JOIN products\n",
    "ON orderdetails.productID=products.productID\n",
    "JOIN categories\n",
    "ON products.categoryid=categories.categoryID\n",
    "JOIN orders\n",
    "ON orders.orderID=orderdetails.orderID\n",
    "JOIN employees\n",
    "ON employees.employeeID=orders.employeeID\n",
    "WHERE productname LIKE '%Tofu%'\n",
    "ORDER BY quantity DESC;\n",
    "```"
   ]
  },
  {
   "cell_type": "code",
   "execution_count": 0,
   "metadata": {
    "collapsed": false
   },
   "outputs": [
   ],
   "source": [
    "# ! runs a command in terminal (BASH)\n",
    "!/ext/anaconda3/bin/pip install --user sql\n",
    "!/ext/anaconda3/bin/pip install --user ipython-sql\n",
    "# RUN ONLY ONCE"
   ]
  },
  {
   "cell_type": "code",
   "execution_count": 3,
   "metadata": {
    "collapsed": false
   },
   "outputs": [
   ],
   "source": [
    "%load_ext sql"
   ]
  },
  {
   "cell_type": "code",
   "execution_count": 4,
   "metadata": {
    "collapsed": false
   },
   "outputs": [
    {
     "data": {
      "text/plain": [
       "'Connected: None@None'"
      ]
     },
     "execution_count": 4,
     "metadata": {
     },
     "output_type": "execute_result"
    }
   ],
   "source": [
    "%sql sqlite://"
   ]
  },
  {
   "cell_type": "code",
   "execution_count": 5,
   "metadata": {
    "collapsed": false
   },
   "outputs": [
    {
     "name": "stdout",
     "output_type": "stream",
     "text": [
      "Done.\n"
     ]
    },
    {
     "data": {
      "text/plain": [
       "[]"
      ]
     },
     "execution_count": 5,
     "metadata": {
     },
     "output_type": "execute_result"
    }
   ],
   "source": [
    "%%sql\n",
    "CREATE TABLE writer (first_name, last_name, year_of_death);"
   ]
  },
  {
   "cell_type": "code",
   "execution_count": 6,
   "metadata": {
    "collapsed": false
   },
   "outputs": [
    {
     "name": "stdout",
     "output_type": "stream",
     "text": [
      "1 rows affected.\n",
      "1 rows affected.\n"
     ]
    },
    {
     "data": {
      "text/plain": [
       "[]"
      ]
     },
     "execution_count": 6,
     "metadata": {
     },
     "output_type": "execute_result"
    }
   ],
   "source": [
    "%%sql\n",
    "INSERT INTO writer VALUES ('William', 'Shakespeare', 1616);\n",
    "INSERT INTO writer VALUES ('Berthold', 'Brecht', 1956);\n"
   ]
  },
  {
   "cell_type": "code",
   "execution_count": 7,
   "metadata": {
    "collapsed": false
   },
   "outputs": [
    {
     "name": "stdout",
     "output_type": "stream",
     "text": [
      "Done.\n"
     ]
    },
    {
     "data": {
      "text/html": [
       "<table>\n",
       "    <tr>\n",
       "        <th>first_name</th>\n",
       "        <th>last_name</th>\n",
       "        <th>year_of_death</th>\n",
       "    </tr>\n",
       "    <tr>\n",
       "        <td>William</td>\n",
       "        <td>Shakespeare</td>\n",
       "        <td>1616</td>\n",
       "    </tr>\n",
       "    <tr>\n",
       "        <td>Berthold</td>\n",
       "        <td>Brecht</td>\n",
       "        <td>1956</td>\n",
       "    </tr>\n",
       "</table>"
      ]
     },
     "execution_count": 7,
     "metadata": {
     },
     "output_type": "execute_result"
    }
   ],
   "source": [
    "%sql select * from writer"
   ]
  },
  {
   "cell_type": "code",
   "execution_count": 0,
   "metadata": {
    "collapsed": false
   },
   "outputs": [
   ],
   "source": [
    "# EXAMPLE FROM LANTHE\n",
    "%%sql\n",
    "DROP TABLE IF EXISTS Mutations;\n",
    "DROP TABLE IF EXISTS Samples;\n",
    "CREATE TABLE Mutations (mutation_id INTEGER PRIMARY KEY, sample_id INT, chromosome VARCHAR(10), position VARCHAR(20), GT VARCHAR(20));\n",
    "CREATE TABLE Samples (sample_id INTEGER PRIMARY KEY, description VARCHAR(255));"
   ]
  },
  {
   "cell_type": "code",
   "execution_count": 0,
   "metadata": {
    "collapsed": false
   },
   "outputs": [
   ],
   "source": [
   ]
  },
  {
   "cell_type": "code",
   "execution_count": 0,
   "metadata": {
    "collapsed": false
   },
   "outputs": [
   ],
   "source": [
    "#EXAMPLE FROM FRANKA\n",
    "vcf_reader = vcf.Reader(open(\"PIK3CA.vcf\", 'r'))\n",
    "test = 0\n",
    "mutation_id = 0\n",
    "\n",
    "# ONLY ADD 20 ENTRIES\n",
    "while test < 20:\n",
    "    for record in vcf_reader:\n",
    "        \n",
    "        # add mutation to Mutation table\n",
    "        mutation_id += 1\n",
    "        command_string = \"INSERT INTO Mutations VALUES ({}, \\'{}\\', \\'{}\\', {}, \\'{}\\', \\'{}\\')\".format(mutation_id, record.var_type, record.CHROM, record.POS, record.REF, record.ALT)\n",
    "        %sql $command_string\n",
    "        \n",
    "        # add mutation-sample pairs to Mutation2Sample table\n",
    "        for sample in record.samples:\n",
    "            if (sample['GT'] != '0/0') and (sample['GT'] != './.'):\n",
    "                command_string = \"INSERT INTO Mutation2Sample VALUES ({}, \\'{}\\')\".format(mutation_id, sample.sample)\n",
    "                %sql $command_string\n",
    "        \n",
    "        test += 1"
   ]
  }
 ],
 "metadata": {
  "kernelspec": {
   "display_name": "Python 3 (Anaconda)",
   "language": "python",
   "name": "anaconda3"
  },
  "language_info": {
   "codemirror_mode": {
    "name": "ipython",
    "version": 3
   },
   "file_extension": ".py",
   "mimetype": "text/x-python",
   "name": "python",
   "nbconvert_exporter": "python",
   "pygments_lexer": "ipython3",
   "version": "3.5.5"
  }
 },
 "nbformat": 4,
 "nbformat_minor": 0
}