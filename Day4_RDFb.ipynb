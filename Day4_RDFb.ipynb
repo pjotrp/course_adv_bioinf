{
 "cells": [
  {
   "cell_type": "raw",
   "metadata": {
    "collapsed": false
   },
   "source": [
    "A SPARQL enpoint should be running on this address, you can visit it with your browser and you should see this output:\n",
    "## Count the number of identifiers on chr q through SPARQL\n",
    "## From the VCF file take the crossreferenced idenitfiers, display chr + pos position of the identifier and the chr+pos where the identifier it controls.\n",
    "## Make a unique own query"
   ]
  },
  {
   "cell_type": "code",
   "execution_count": 3,
   "metadata": {
    "collapsed": false
   },
   "outputs": [
    {
     "name": "stdout",
     "output_type": "stream",
     "text": [
      "^C\r\n"
     ]
    }
   ],
   "source": [
    "! curl \"http://zero.borm.org:8000\""
   ]
  },
  {
   "cell_type": "code",
   "execution_count": 1,
   "metadata": {
    "collapsed": false
   },
   "outputs": [
    {
     "name": "stdout",
     "output_type": "stream",
     "text": [
      "Collecting PyVCF\r\n"
     ]
    },
    {
     "name": "stdout",
     "output_type": "stream",
     "text": [
      "\u001b[33m  Retrying (Retry(total=4, connect=None, read=None, redirect=None)) after connection broken by 'NewConnectionError('<pip._vendor.requests.packages.urllib3.connection.VerifiedHTTPSConnection object at 0x7fdf9077aba8>: Failed to establish a new connection: [Errno 101] Network is unreachable',)': /simple/pyvcf/\u001b[0m\r\n"
     ]
    }
   ],
   "source": [
    "!pip install PyVCF\n",
    "import vcf"
   ]
  },
  {
   "cell_type": "markdown",
   "metadata": {
    "collapsed": false
   },
   "source": [
    "# REPLACE pjotr.me with your name!!"
   ]
  },
  {
   "cell_type": "code",
   "execution_count": 1,
   "metadata": {
    "collapsed": false
   },
   "outputs": [
    {
     "name": "stdout",
     "output_type": "stream",
     "text": [
      "@prefix : <http://emmy.me/rdf/ns#> .\n",
      "\n"
     ]
    },
    {
     "ename": "NameError",
     "evalue": "name 'vcf' is not defined",
     "output_type": "error",
     "traceback": [
      "\u001b[0;31m\u001b[0m",
      "\u001b[0;31mNameError\u001b[0mTraceback (most recent call last)",
      "\u001b[0;32m<ipython-input-1-f865ff63eeeb>\u001b[0m in \u001b[0;36m<module>\u001b[0;34m()\u001b[0m\n\u001b[1;32m      1\u001b[0m \u001b[0;32mprint\u001b[0m\u001b[0;34m(\u001b[0m\u001b[0;34m\"@prefix : <http://emmy.me/rdf/ns#> .\\n\"\u001b[0m\u001b[0;34m)\u001b[0m\u001b[0;34m\u001b[0m\u001b[0m\n\u001b[1;32m      2\u001b[0m \u001b[0;34m\u001b[0m\u001b[0m\n\u001b[0;32m----> 3\u001b[0;31m \u001b[0mvcf_reader\u001b[0m \u001b[0;34m=\u001b[0m \u001b[0mvcf\u001b[0m\u001b[0;34m.\u001b[0m\u001b[0mReader\u001b[0m\u001b[0;34m(\u001b[0m\u001b[0mopen\u001b[0m\u001b[0;34m(\u001b[0m\u001b[0;34m'/home/user/gatk_exome.vcf'\u001b[0m\u001b[0;34m,\u001b[0m \u001b[0;34m'r'\u001b[0m\u001b[0;34m)\u001b[0m\u001b[0;34m)\u001b[0m\u001b[0;34m\u001b[0m\u001b[0m\n\u001b[0m\u001b[1;32m      4\u001b[0m \u001b[0mcount\u001b[0m\u001b[0;34m=\u001b[0m\u001b[0;36m0\u001b[0m\u001b[0;34m\u001b[0m\u001b[0m\n\u001b[1;32m      5\u001b[0m \u001b[0;32mfor\u001b[0m \u001b[0mrecord\u001b[0m \u001b[0;32min\u001b[0m \u001b[0mvcf_reader\u001b[0m\u001b[0;34m:\u001b[0m\u001b[0;34m\u001b[0m\u001b[0m\n",
      "\u001b[0;31mNameError\u001b[0m: name 'vcf' is not defined"
     ]
    }
   ],
   "source": [
    "\n",
    "print(\"@prefix : <http://emmy.me/rdf/ns#> .\\n\")\n",
    "\n",
    "vcf_reader = vcf.Reader(open('/home/user/gatk_exome.vcf', 'r'))\n",
    "count=0\n",
    "for record in vcf_reader:\n",
    "    name = \"chr\"+record.CHROM+\"_\"+str(record.POS)+\"_\"+str(record.ALT[0])\n",
    "    print(\":\"+name)\n",
    "    print(\"  :query_id \\\"\"+name+\"\\\" ;\")\n",
    "    print(\"  :chr \\\"\"+record.CHROM+\"\\\" ;\")\n",
    "    print(\"  :pos \\\"\"+str(record.POS)+\"\\\" ;\")\n",
    "    print(\"  :alt \\\"\"+str(record.ALT[0])+\"\\\" .\")\n",
    "    count +=1\n",
    "    if count > 5:\n",
    "        break\n"
   ]
  },
  {
   "cell_type": "markdown",
   "metadata": {
    "collapsed": false
   },
   "source": [
    "### Now write the same to file with samples and a few extra triples"
   ]
  },
  {
   "cell_type": "code",
   "execution_count": 36,
   "metadata": {
    "collapsed": false,
    "scrolled": true
   },
   "outputs": [
    {
     "name": "stderr",
     "output_type": "stream",
     "text": [
      "WARNING: Some output was deleted.\n"
     ]
    }
   ],
   "source": [
    "\n",
    "import vcf\n",
    "\n",
    "buf = \"\"\"\n",
    "@prefix    :   <http://pjotr.me/rdf/ns#> .\n",
    "@prefix rdf:   <http://www.w3.org/1999/02/22-rdf-syntax-ns#> .\n",
    "\n",
    "\"\"\"\n",
    "\n",
    "vcf_reader = vcf.Reader(open('/home/user/gatk_exome.vcf', 'r'))\n",
    "for record in vcf_reader:\n",
    "    name = \"chr\"+record.CHROM+\"_\"+str(record.POS)+\"_\"+str(record.ALT[0])\n",
    "    buf += \":\"+name+\"\\n\"\n",
    "    buf += \"  :variant \\\"\"+name+\"\\\" ;\\n\"\n",
    "    buf += \"  rdf:type :snp ;\\n\"\n",
    "    buf += \"  :chr \\\"\"+record.CHROM+\"\\\" ;\\n\"\n",
    "    buf += \"  :pos \\\"\"+str(record.POS)+\"\\\" ;\\n\"\n",
    "    buf += \"  :alt \\\"\"+str(record.ALT[0])+\"\\\" .\\n\"\n",
    "    for sample in record.samples:\n",
    "        buf += \":\"+name+\"_\"+str(sample.sample)+\"\\n\"\n",
    "        if sample[\"DP\"]:\n",
    "            buf += \"  :dp   \"+str(sample[\"DP\"])+\" ;\\n\"\n",
    "        buf += \"  :vcf :\"+name+\" .\\n\"\n",
    "\n",
    "# Finally we connect a few SNPs\n",
    "\n",
    "buf += \"\"\"\n",
    ":chr1_66058513_G  :controls  :chr1_114354942_G .\n",
    ":chr1_114354942_G :controls  :chr1_144873962_C .\n",
    ":chr1_144873962_C :controls  :chr1_66058513_G .\n",
    ":chr1_144873962_C :controls  :chrX_134713855_A .\n",
    "\"\"\"\n",
    "\n",
    "# Write to file\n",
    "\n",
    "print(buf)\n",
    "f = open(\"test.rdf\",\"w\") # note this file is shared!\n",
    "f.write(buf)\n",
    "\n"
   ]
  },
  {
   "cell_type": "markdown",
   "metadata": {
    "collapsed": false
   },
   "source": [
    "### Validate the file - we can do this in python"
   ]
  },
  {
   "cell_type": "code",
   "execution_count": 37,
   "metadata": {
    "collapsed": false,
    "scrolled": true
   },
   "outputs": [
    {
     "name": "stderr",
     "output_type": "stream",
     "text": [
      "WARNING: some intermediate output was truncated.\n"
     ]
    },
    {
     "name": "stderr",
     "output_type": "stream",
     "text": [
      "WARNING: Some output was deleted.\n"
     ]
    }
   ],
   "source": [
    "# pip3 install --user rdflib\n",
    "# python3 rdfvalidate.py\n",
    "\n",
    "import rdflib\n",
    "g = rdflib.Graph()\n",
    "\n",
    "result = g.parse('test.rdf', format='n3')\n",
    "print(len(g))\n",
    "for stmt in g:\n",
    "    print(stmt)\n",
    "\n",
    "# You should see something here..."
   ]
  },
  {
   "cell_type": "markdown",
   "metadata": {
    "collapsed": false
   },
   "source": [
    "### Here we upload the data to the database"
   ]
  },
  {
   "cell_type": "code",
   "execution_count": 38,
   "metadata": {
    "collapsed": false,
    "scrolled": true
   },
   "outputs": [
    {
     "name": "stdout",
     "output_type": "stream",
     "text": [
      "http://zero.borm.org:8000/data/http://biobeat.org/pjotr/test.rdf\n",
      "<Response [201]>\n"
     ]
    }
   ],
   "source": [
    "# Equivalent of curl -T $rdf -H 'Content-Type: application/x-turtle' $uri\n",
    "import requests\n",
    "\n",
    "myname=\"pjotr\" # change to your username\n",
    "rdf=\"test.rdf\" # shared file?!\n",
    "uri=\"http://zero.borm.org:8000/data/http://biobeat.org/\"+myname+\"/\"+rdf\n",
    "headers = {'content-type': 'application/x-turtle'}\n",
    "\n",
    "f = open(rdf)\n",
    "buf = f.read()\n",
    "r = requests.put(uri, data=buf, headers=headers)\n",
    "print(uri)\n",
    "print(r) # should give a 201\n"
   ]
  },
  {
   "cell_type": "markdown",
   "metadata": {
    "collapsed": false
   },
   "source": [
    "### Let's check what is in 4store\n"
   ]
  },
  {
   "cell_type": "code",
   "execution_count": 53,
   "metadata": {
    "collapsed": false
   },
   "outputs": [
    {
     "name": "stdout",
     "output_type": "stream",
     "text": [
      "                       SPARQL httpd server status - size\r\n",
      "\r\n",
      "KB pythoncourse\r\n",
      "\r\n",
      "   Segment # quads (s) quads (sr) models resources\r\n",
      "   0         663       +0         1      697\r\n",
      "   1         755       +0         1      757\r\n",
      "     Total   1418      +0         1      1454\r\n"
     ]
    }
   ],
   "source": [
    "! lynx --dump zero.borm.org:8000/status/size/"
   ]
  },
  {
   "cell_type": "markdown",
   "metadata": {
    "collapsed": false
   },
   "source": [
    "### And do a first SPARQL query\n"
   ]
  },
  {
   "cell_type": "code",
   "execution_count": 51,
   "metadata": {
    "collapsed": false
   },
   "outputs": [
    {
     "name": "stdout",
     "output_type": "stream",
     "text": [
      "?s\n",
      "<http://pjotr.me/rdf/ns#chr7_100552867_C>\n",
      "<http://pjotr.me/rdf/ns#chr17_9515777_A>\n",
      "<http://pjotr.me/rdf/ns#chr2_32667182_C>\n",
      "<http://pjotr.me/rdf/ns#chr7_100551849_T>\n",
      "<http://pjotr.me/rdf/ns#chr7_22202052_A>\n",
      "<http://pjotr.me/rdf/ns#chr2_112705157_C>\n",
      "<http://pjotr.me/rdf/ns#chr10_126691608_T>\n",
      "<http://pjotr.me/rdf/ns#chr1_60466814_C>\n",
      "<http://pjotr.me/rdf/ns#chr20_29628431_T>\n",
      "<http://pjotr.me/rdf/ns#chr3_62478014_A>\n",
      "\n"
     ]
    }
   ],
   "source": [
    "\n",
    "end_point = \"http://zero.borm.org:8000/sparql/\"\n",
    "\n",
    "query = \"\"\"\n",
    "PREFIX : <http://pjotr.me/rdf/pjotr/ns#>\n",
    "PREFIX rdf:   <http://www.w3.org/1999/02/22-rdf-syntax-ns#>\n",
    "\n",
    "SELECT ?s WHERE {\n",
    "    ?s rdf:type ?o .\n",
    "} LIMIT 10\n",
    "\"\"\"\n",
    "\n",
    "r = requests.post(end_point, data={ \"query\": query, \"output\": \"text\" })\n",
    "# print r.url\n",
    "\n",
    "print(r.text)\n"
   ]
  },
  {
   "cell_type": "code",
   "execution_count": 0,
   "metadata": {
    "collapsed": false
   },
   "outputs": [
   ],
   "source": [
   ]
  }
 ],
 "metadata": {
  "kernelspec": {
   "display_name": "Python 3 (Anaconda)",
   "language": "python",
   "name": "anaconda3"
  },
  "language_info": {
   "codemirror_mode": {
    "name": "ipython",
    "version": 3
   },
   "file_extension": ".py",
   "mimetype": "text/x-python",
   "name": "python",
   "nbconvert_exporter": "python",
   "pygments_lexer": "ipython3",
   "version": "3.5.4"
  }
 },
 "nbformat": 4,
 "nbformat_minor": 0
}