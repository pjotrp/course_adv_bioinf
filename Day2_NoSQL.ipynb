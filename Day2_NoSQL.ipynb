{
 "cells": [
  {
   "cell_type": "markdown",
   "metadata": {
    "collapsed": false
   },
   "source": [
    "# Examples of using NoSQL from within python\n"
   ]
  },
  {
   "cell_type": "markdown",
   "metadata": {
    "collapsed": false
   },
   "source": [
    "echo and curl are Unix command line tools which can be used in a terminal and in a notebook\n"
   ]
  },
  {
   "cell_type": "code",
   "execution_count": 9,
   "metadata": {
    "collapsed": false
   },
   "outputs": [
    {
     "name": "stdout",
     "output_type": "stream",
     "text": [
      "hello\r\n"
     ]
    }
   ],
   "source": [
    "!echo hello\n"
   ]
  },
  {
   "cell_type": "code",
   "execution_count": 3,
   "metadata": {
    "collapsed": false
   },
   "outputs": [
    {
     "name": "stdout",
     "output_type": "stream",
     "text": [
      "{\r\n",
      "  \"name\" : \"pISJSCs\",\r\n",
      "  \"cluster_name\" : \"elasticsearch\",\r\n",
      "  \"cluster_uuid\" : \"X0AINSZISZO-fjXNs2131w\",\r\n",
      "  \"version\" : {\r\n",
      "    \"number\" : \"6.2.2\",\r\n",
      "    \"build_hash\" : \"10b1edd\",\r\n",
      "    \"build_date\" : \"2018-02-16T19:01:30.685723Z\",\r\n",
      "    \"build_snapshot\" : false,\r\n",
      "    \"lucene_version\" : \"7.2.1\",\r\n",
      "    \"minimum_wire_compatibility_version\" : \"5.6.0\",\r\n",
      "    \"minimum_index_compatibility_version\" : \"5.0.0\"\r\n",
      "  },\r\n",
      "  \"tagline\" : \"You Know, for Search\"\r\n",
      "}\r\n"
     ]
    }
   ],
   "source": [
    "!curl http://127.0.0.1:9200"
   ]
  },
  {
   "cell_type": "code",
   "execution_count": 0,
   "metadata": {
    "collapsed": false
   },
   "outputs": [
   ],
   "source": [
    "#!curl \"http://togows.org/entry/ebi-uniprot/A1AG1_HUMAN.json\""
   ]
  },
  {
   "cell_type": "code",
   "execution_count": 2,
   "metadata": {
    "collapsed": false
   },
   "outputs": [
   ],
   "source": [
    "import requests\n",
    "import json"
   ]
  },
  {
   "cell_type": "code",
   "execution_count": 3,
   "metadata": {
    "collapsed": false,
    "scrolled": true
   },
   "outputs": [
    {
     "name": "stderr",
     "output_type": "stream",
     "text": [
      "WARNING: Some output was deleted.\n"
     ]
    }
   ],
   "source": [
    "req = requests.get(\"http://togows.org/entry/ebi-uniprot/A1AG1_HUMAN.json\")\n",
    "#print(req.text)"
   ]
  },
  {
   "cell_type": "code",
   "execution_count": 0,
   "metadata": {
    "collapsed": false
   },
   "outputs": [
   ],
   "source": [
    "jsondata = json.loads(req.text)\n",
    "print(jsondata[0]['entry_id'])"
   ]
  },
  {
   "cell_type": "code",
   "execution_count": 6,
   "metadata": {
    "collapsed": false
   },
   "outputs": [
    {
     "name": "stdout",
     "output_type": "stream",
     "text": [
      "{\n",
      "  \"name\" : \"pISJSCs\",\n",
      "  \"cluster_name\" : \"elasticsearch\",\n",
      "  \"cluster_uuid\" : \"X0AINSZISZO-fjXNs2131w\",\n",
      "  \"version\" : {\n",
      "    \"number\" : \"6.2.2\",\n",
      "    \"build_hash\" : \"10b1edd\",\n",
      "    \"build_date\" : \"2018-02-16T19:01:30.685723Z\",\n",
      "    \"build_snapshot\" : false,\n",
      "    \"lucene_version\" : \"7.2.1\",\n",
      "    \"minimum_wire_compatibility_version\" : \"5.6.0\",\n",
      "    \"minimum_index_compatibility_version\" : \"5.0.0\"\n",
      "  },\n",
      "  \"tagline\" : \"You Know, for Search\"\n",
      "}\n",
      "\n"
     ]
    }
   ],
   "source": [
    "req2 = requests.get(\"http://127.0.0.1:9200\")\n",
    "print(req2.text)"
   ]
  },
  {
   "cell_type": "code",
   "execution_count": 5,
   "metadata": {
    "collapsed": false
   },
   "outputs": [
    {
     "name": "stdout",
     "output_type": "stream",
     "text": [
      "{\n",
      "  \"name\" : \"pISJSCs\",\n",
      "  \"cluster_name\" : \"elasticsearch\",\n",
      "  \"cluster_uuid\" : \"X0AINSZISZO-fjXNs2131w\",\n",
      "  \"version\" : {\n",
      "    \"number\" : \"6.2.2\",\n",
      "    \"build_hash\" : \"10b1edd\",\n",
      "    \"build_date\" : \"2018-02-16T19:01:30.685723Z\",\n",
      "    \"build_snapshot\" : false,\n",
      "    \"lucene_version\" : \"7.2.1\",\n",
      "    \"minimum_wire_compatibility_version\" : \"5.6.0\",\n",
      "    \"minimum_index_compatibility_version\" : \"5.0.0\"\n",
      "  },\n",
      "  \"tagline\" : \"You Know, for Search\"\n",
      "}\n",
      "\n"
     ]
    }
   ],
   "source": [
    "print(req2.text)"
   ]
  },
  {
   "cell_type": "code",
   "execution_count": 0,
   "metadata": {
    "collapsed": false
   },
   "outputs": [
   ],
   "source": [
    "#!pip install --user pyvcf"
   ]
  },
  {
   "cell_type": "code",
   "execution_count": 7,
   "metadata": {
    "collapsed": false
   },
   "outputs": [
    {
     "name": "stderr",
     "output_type": "stream",
     "text": [
      "/ext/anaconda3/lib/python3.5/site-packages/rpy2/rinterface/__init__.py:186: RRuntimeWarning: During startup - \n",
      "  warnings.warn(x, RRuntimeWarning)\n",
      "/ext/anaconda3/lib/python3.5/site-packages/rpy2/rinterface/__init__.py:186: RRuntimeWarning: Warning messages:\n",
      "\n",
      "  warnings.warn(x, RRuntimeWarning)\n",
      "/ext/anaconda3/lib/python3.5/site-packages/rpy2/rinterface/__init__.py:186: RRuntimeWarning: 1: package ‘methods’ was built under R version 3.4.2 \n",
      "\n",
      "  warnings.warn(x, RRuntimeWarning)\n",
      "/ext/anaconda3/lib/python3.5/site-packages/rpy2/rinterface/__init__.py:186: RRuntimeWarning: 2: package ‘datasets’ was built under R version 3.4.2 \n",
      "\n",
      "  warnings.warn(x, RRuntimeWarning)\n",
      "/ext/anaconda3/lib/python3.5/site-packages/rpy2/rinterface/__init__.py:186: RRuntimeWarning: 3: package ‘utils’ was built under R version 3.4.2 \n",
      "\n",
      "  warnings.warn(x, RRuntimeWarning)\n",
      "/ext/anaconda3/lib/python3.5/site-packages/rpy2/rinterface/__init__.py:186: RRuntimeWarning: 4: package ‘grDevices’ was built under R version 3.4.2 \n",
      "\n",
      "  warnings.warn(x, RRuntimeWarning)\n",
      "/ext/anaconda3/lib/python3.5/site-packages/rpy2/rinterface/__init__.py:186: RRuntimeWarning: 5: package ‘graphics’ was built under R version 3.4.2 \n",
      "\n",
      "  warnings.warn(x, RRuntimeWarning)\n",
      "/ext/anaconda3/lib/python3.5/site-packages/rpy2/rinterface/__init__.py:186: RRuntimeWarning: 6: package ‘stats’ was built under R version 3.4.2 \n",
      "\n",
      "  warnings.warn(x, RRuntimeWarning)\n"
     ]
    }
   ],
   "source": [
    "import vcf"
   ]
  },
  {
   "cell_type": "code",
   "execution_count": 5,
   "metadata": {
    "collapsed": false
   },
   "outputs": [
    {
     "name": "stdout",
     "output_type": "stream",
     "text": [
      "sys.version_info(major=3, minor=5, micro=4, releaselevel='final', serial=0)\n"
     ]
    }
   ],
   "source": [
    "import sys\n",
    "print(sys.version_info)"
   ]
  },
  {
   "cell_type": "code",
   "execution_count": 8,
   "metadata": {
    "collapsed": false
   },
   "outputs": [
   ],
   "source": [
    "vcf_reader = vcf.VCFReader(open('PIK3CA.vcf'))"
   ]
  },
  {
   "cell_type": "code",
   "execution_count": 0,
   "metadata": {
    "collapsed": false
   },
   "outputs": [
   ],
   "source": [
    "#!pip install --user elasticsearch"
   ]
  },
  {
   "cell_type": "code",
   "execution_count": 0,
   "metadata": {
    "collapsed": false
   },
   "outputs": [
   ],
   "source": [
   ]
  },
  {
   "cell_type": "code",
   "execution_count": 1,
   "metadata": {
    "collapsed": false
   },
   "outputs": [
   ],
   "source": [
    "from datetime import datetime\n",
    "from elasticsearch import Elasticsearch\n",
    "es = Elasticsearch()"
   ]
  },
  {
   "cell_type": "code",
   "execution_count": 2,
   "metadata": {
    "collapsed": false
   },
   "outputs": [
   ],
   "source": [
    "rec1={\"Name\":\"Bert\",\"Pet\":[\"Fishy\"],\"Adress\":\"Groningen\"}\n",
    "rec2={\"Name\":\"Herman\",\"Pet\":[\"Vinky\"],\"Adress\":\"Assen\"}\n",
    "rec3={\"Name\":\"Pia\",\"Pet\":[\"Mittens\",\"Snuggles\"],\"Adress\":\"USA\"}"
   ]
  },
  {
   "cell_type": "code",
   "execution_count": 0,
   "metadata": {
    "collapsed": false
   },
   "outputs": [
   ],
   "source": [
   ]
  },
  {
   "cell_type": "code",
   "execution_count": 3,
   "metadata": {
    "collapsed": false
   },
   "outputs": [
    {
     "name": "stderr",
     "output_type": "stream",
     "text": [
      "POST http://localhost:9200/comic/rec [status:N/A request:10.013s]\n",
      "Traceback (most recent call last):\n",
      "  File \"/ext/anaconda3/lib/python3.5/site-packages/urllib3/connectionpool.py\", line 387, in _make_request\n",
      "    six.raise_from(e, None)\n",
      "  File \"<string>\", line 2, in raise_from\n",
      "  File \"/ext/anaconda3/lib/python3.5/site-packages/urllib3/connectionpool.py\", line 383, in _make_request\n",
      "    httplib_response = conn.getresponse()\n",
      "  File \"/ext/anaconda3/lib/python3.5/http/client.py\", line 1198, in getresponse\n",
      "    response.begin()\n",
      "  File \"/ext/anaconda3/lib/python3.5/http/client.py\", line 297, in begin\n",
      "    version, status, reason = self._read_status()\n",
      "  File \"/ext/anaconda3/lib/python3.5/http/client.py\", line 258, in _read_status\n",
      "    line = str(self.fp.readline(_MAXLINE + 1), \"iso-8859-1\")\n",
      "  File \"/ext/anaconda3/lib/python3.5/socket.py\", line 576, in readinto\n",
      "    return self._sock.recv_into(b)\n",
      "socket.timeout: timed out\n",
      "\n",
      "During handling of the above exception, another exception occurred:\n",
      "\n",
      "Traceback (most recent call last):\n",
      "  File \"/home/user/.local/lib/python3.5/site-packages/elasticsearch/connection/http_urllib3.py\", line 149, in perform_request\n",
      "    response = self.pool.urlopen(method, url, body, retries=False, headers=request_headers, **kw)\n",
      "  File \"/ext/anaconda3/lib/python3.5/site-packages/urllib3/connectionpool.py\", line 639, in urlopen\n",
      "    _stacktrace=sys.exc_info()[2])\n",
      "  File \"/ext/anaconda3/lib/python3.5/site-packages/urllib3/util/retry.py\", line 333, in increment\n",
      "    raise six.reraise(type(error), error, _stacktrace)\n",
      "  File \"/ext/anaconda3/lib/python3.5/site-packages/urllib3/packages/six.py\", line 686, in reraise\n",
      "    raise value\n",
      "  File \"/ext/anaconda3/lib/python3.5/site-packages/urllib3/connectionpool.py\", line 601, in urlopen\n",
      "    chunked=chunked)\n",
      "  File \"/ext/anaconda3/lib/python3.5/site-packages/urllib3/connectionpool.py\", line 389, in _make_request\n",
      "    self._raise_timeout(err=e, url=url, timeout_value=read_timeout)\n",
      "  File \"/ext/anaconda3/lib/python3.5/site-packages/urllib3/connectionpool.py\", line 309, in _raise_timeout\n",
      "    raise ReadTimeoutError(self, url, \"Read timed out. (read timeout=%s)\" % timeout_value)\n",
      "urllib3.exceptions.ReadTimeoutError: HTTPConnectionPool(host='localhost', port=9200): Read timed out. (read timeout=10)\n"
     ]
    },
    {
     "name": "stderr",
     "output_type": "stream",
     "text": [
      "WARNING: Some output was deleted.\n"
     ]
    }
   ],
   "source": [
    "es.index(index='comic', doc_type='rec', body={\"1\":rec1,\"2\":rec2,\"3\":rec3})"
   ]
  },
  {
   "cell_type": "code",
   "execution_count": 4,
   "metadata": {
    "collapsed": false
   },
   "outputs": [
    {
     "name": "stderr",
     "output_type": "stream",
     "text": [
      "PUT http://localhost:9200/test-index/tweet/1 [status:N/A request:0.003s]\n",
      "Traceback (most recent call last):\n",
      "  File \"/ext/anaconda3/lib/python3.5/site-packages/urllib3/connectionpool.py\", line 601, in urlopen\n",
      "    chunked=chunked)\n",
      "  File \"/ext/anaconda3/lib/python3.5/site-packages/urllib3/connectionpool.py\", line 387, in _make_request\n",
      "    six.raise_from(e, None)\n",
      "  File \"<string>\", line 2, in raise_from\n",
      "  File \"/ext/anaconda3/lib/python3.5/site-packages/urllib3/connectionpool.py\", line 383, in _make_request\n",
      "    httplib_response = conn.getresponse()\n",
      "  File \"/ext/anaconda3/lib/python3.5/http/client.py\", line 1198, in getresponse\n",
      "    response.begin()\n",
      "  File \"/ext/anaconda3/lib/python3.5/http/client.py\", line 297, in begin\n",
      "    version, status, reason = self._read_status()\n",
      "  File \"/ext/anaconda3/lib/python3.5/http/client.py\", line 279, in _read_status\n",
      "    raise BadStatusLine(line)\n",
      "http.client.BadStatusLine: ÿ\u0000\u0000\u0000\u0000\u0000\u0000\u0000\u0001\r\u0000Content-Lengt\u0000: 103\r\n",
      "\n",
      "\n",
      "During handling of the above exception, another exception occurred:\n",
      "\n",
      "Traceback (most recent call last):\n",
      "  File \"/home/user/.local/lib/python3.5/site-packages/elasticsearch/connection/http_urllib3.py\", line 149, in perform_request\n",
      "    response = self.pool.urlopen(method, url, body, retries=False, headers=request_headers, **kw)\n",
      "  File \"/ext/anaconda3/lib/python3.5/site-packages/urllib3/connectionpool.py\", line 639, in urlopen\n",
      "    _stacktrace=sys.exc_info()[2])\n",
      "  File \"/ext/anaconda3/lib/python3.5/site-packages/urllib3/util/retry.py\", line 333, in increment\n",
      "    raise six.reraise(type(error), error, _stacktrace)\n",
      "  File \"/ext/anaconda3/lib/python3.5/site-packages/urllib3/packages/six.py\", line 685, in reraise\n",
      "    raise value.with_traceback(tb)\n",
      "  File \"/ext/anaconda3/lib/python3.5/site-packages/urllib3/connectionpool.py\", line 601, in urlopen\n",
      "    chunked=chunked)\n",
      "  File \"/ext/anaconda3/lib/python3.5/site-packages/urllib3/connectionpool.py\", line 387, in _make_request\n",
      "    six.raise_from(e, None)\n",
      "  File \"<string>\", line 2, in raise_from\n",
      "  File \"/ext/anaconda3/lib/python3.5/site-packages/urllib3/connectionpool.py\", line 383, in _make_request\n",
      "    httplib_response = conn.getresponse()\n",
      "  File \"/ext/anaconda3/lib/python3.5/http/client.py\", line 1198, in getresponse\n",
      "    response.begin()\n",
      "  File \"/ext/anaconda3/lib/python3.5/http/client.py\", line 297, in begin\n",
      "    version, status, reason = self._read_status()\n",
      "  File \"/ext/anaconda3/lib/python3.5/http/client.py\", line 279, in _read_status\n",
      "    raise BadStatusLine(line)\n",
      "urllib3.exceptions.ProtocolError: ('Connection aborted.', BadStatusLine('ÿ\\x00\\x00\\x00\\x00\\x00\\x00\\x00\\x01\\x7f\\r\\x00Content-Lengt\\x00: 103\\r\\n',))\n"
     ]
    },
    {
     "name": "stderr",
     "output_type": "stream",
     "text": [
      "PUT http://localhost:9200/test-index/tweet/1 [status:N/A request:0.007s]\n",
      "Traceback (most recent call last):\n",
      "  File \"/ext/anaconda3/lib/python3.5/site-packages/urllib3/connectionpool.py\", line 601, in urlopen\n",
      "    chunked=chunked)\n",
      "  File \"/ext/anaconda3/lib/python3.5/site-packages/urllib3/connectionpool.py\", line 387, in _make_request\n",
      "    six.raise_from(e, None)\n",
      "  File \"<string>\", line 2, in raise_from\n",
      "  File \"/ext/anaconda3/lib/python3.5/site-packages/urllib3/connectionpool.py\", line 383, in _make_request\n",
      "    httplib_response = conn.getresponse()\n",
      "  File \"/ext/anaconda3/lib/python3.5/http/client.py\", line 1198, in getresponse\n",
      "    response.begin()\n",
      "  File \"/ext/anaconda3/lib/python3.5/http/client.py\", line 297, in begin\n",
      "    version, status, reason = self._read_status()\n",
      "  File \"/ext/anaconda3/lib/python3.5/http/client.py\", line 279, in _read_status\n",
      "    raise BadStatusLine(line)\n",
      "http.client.BadStatusLine: ÿ\u0000\u0000\u0000\u0000\u0000\u0000\u0000\u0001\r\u0000Content-Lengt\u0000: 103\r\n",
      "\n",
      "\n",
      "During handling of the above exception, another exception occurred:\n",
      "\n",
      "Traceback (most recent call last):\n",
      "  File \"/home/user/.local/lib/python3.5/site-packages/elasticsearch/connection/http_urllib3.py\", line 149, in perform_request\n",
      "    response = self.pool.urlopen(method, url, body, retries=False, headers=request_headers, **kw)\n",
      "  File \"/ext/anaconda3/lib/python3.5/site-packages/urllib3/connectionpool.py\", line 639, in urlopen\n",
      "    _stacktrace=sys.exc_info()[2])\n",
      "  File \"/ext/anaconda3/lib/python3.5/site-packages/urllib3/util/retry.py\", line 333, in increment\n",
      "    raise six.reraise(type(error), error, _stacktrace)\n",
      "  File \"/ext/anaconda3/lib/python3.5/site-packages/urllib3/packages/six.py\", line 685, in reraise\n",
      "    raise value.with_traceback(tb)\n",
      "  File \"/ext/anaconda3/lib/python3.5/site-packages/urllib3/connectionpool.py\", line 601, in urlopen\n",
      "    chunked=chunked)\n",
      "  File \"/ext/anaconda3/lib/python3.5/site-packages/urllib3/connectionpool.py\", line 387, in _make_request\n",
      "    six.raise_from(e, None)\n",
      "  File \"<string>\", line 2, in raise_from\n",
      "  File \"/ext/anaconda3/lib/python3.5/site-packages/urllib3/connectionpool.py\", line 383, in _make_request\n",
      "    httplib_response = conn.getresponse()\n",
      "  File \"/ext/anaconda3/lib/python3.5/http/client.py\", line 1198, in getresponse\n",
      "    response.begin()\n",
      "  File \"/ext/anaconda3/lib/python3.5/http/client.py\", line 297, in begin\n",
      "    version, status, reason = self._read_status()\n",
      "  File \"/ext/anaconda3/lib/python3.5/http/client.py\", line 279, in _read_status\n",
      "    raise BadStatusLine(line)\n",
      "urllib3.exceptions.ProtocolError: ('Connection aborted.', BadStatusLine('ÿ\\x00\\x00\\x00\\x00\\x00\\x00\\x00\\x01\\x7f\\r\\x00Content-Lengt\\x00: 103\\r\\n',))\n"
     ]
    },
    {
     "name": "stderr",
     "output_type": "stream",
     "text": [
      "PUT http://localhost:9200/test-index/tweet/1 [status:N/A request:0.046s]\n",
      "Traceback (most recent call last):\n",
      "  File \"/ext/anaconda3/lib/python3.5/site-packages/urllib3/connectionpool.py\", line 601, in urlopen\n",
      "    chunked=chunked)\n",
      "  File \"/ext/anaconda3/lib/python3.5/site-packages/urllib3/connectionpool.py\", line 387, in _make_request\n",
      "    six.raise_from(e, None)\n",
      "  File \"<string>\", line 2, in raise_from\n",
      "  File \"/ext/anaconda3/lib/python3.5/site-packages/urllib3/connectionpool.py\", line 383, in _make_request\n",
      "    httplib_response = conn.getresponse()\n",
      "  File \"/ext/anaconda3/lib/python3.5/http/client.py\", line 1198, in getresponse\n",
      "    response.begin()\n",
      "  File \"/ext/anaconda3/lib/python3.5/http/client.py\", line 297, in begin\n",
      "    version, status, reason = self._read_status()\n",
      "  File \"/ext/anaconda3/lib/python3.5/http/client.py\", line 279, in _read_status\n",
      "    raise BadStatusLine(line)\n",
      "http.client.BadStatusLine: ÿ\u0000\u0000\u0000\u0000\u0000\u0000\u0000\u0001\r\u0000Content-Lengt\u0000: 103\r\n",
      "\n",
      "\n",
      "During handling of the above exception, another exception occurred:\n",
      "\n",
      "Traceback (most recent call last):\n",
      "  File \"/home/user/.local/lib/python3.5/site-packages/elasticsearch/connection/http_urllib3.py\", line 149, in perform_request\n",
      "    response = self.pool.urlopen(method, url, body, retries=False, headers=request_headers, **kw)\n",
      "  File \"/ext/anaconda3/lib/python3.5/site-packages/urllib3/connectionpool.py\", line 639, in urlopen\n",
      "    _stacktrace=sys.exc_info()[2])\n",
      "  File \"/ext/anaconda3/lib/python3.5/site-packages/urllib3/util/retry.py\", line 333, in increment\n",
      "    raise six.reraise(type(error), error, _stacktrace)\n",
      "  File \"/ext/anaconda3/lib/python3.5/site-packages/urllib3/packages/six.py\", line 685, in reraise\n",
      "    raise value.with_traceback(tb)\n",
      "  File \"/ext/anaconda3/lib/python3.5/site-packages/urllib3/connectionpool.py\", line 601, in urlopen\n",
      "    chunked=chunked)\n",
      "  File \"/ext/anaconda3/lib/python3.5/site-packages/urllib3/connectionpool.py\", line 387, in _make_request\n",
      "    six.raise_from(e, None)\n",
      "  File \"<string>\", line 2, in raise_from\n",
      "  File \"/ext/anaconda3/lib/python3.5/site-packages/urllib3/connectionpool.py\", line 383, in _make_request\n",
      "    httplib_response = conn.getresponse()\n",
      "  File \"/ext/anaconda3/lib/python3.5/http/client.py\", line 1198, in getresponse\n",
      "    response.begin()\n",
      "  File \"/ext/anaconda3/lib/python3.5/http/client.py\", line 297, in begin\n",
      "    version, status, reason = self._read_status()\n",
      "  File \"/ext/anaconda3/lib/python3.5/http/client.py\", line 279, in _read_status\n",
      "    raise BadStatusLine(line)\n",
      "urllib3.exceptions.ProtocolError: ('Connection aborted.', BadStatusLine('ÿ\\x00\\x00\\x00\\x00\\x00\\x00\\x00\\x01\\x7f\\r\\x00Content-Lengt\\x00: 103\\r\\n',))\n"
     ]
    },
    {
     "name": "stderr",
     "output_type": "stream",
     "text": [
      "PUT http://localhost:9200/test-index/tweet/1 [status:N/A request:0.003s]\n",
      "Traceback (most recent call last):\n",
      "  File \"/ext/anaconda3/lib/python3.5/site-packages/urllib3/connectionpool.py\", line 601, in urlopen\n",
      "    chunked=chunked)\n",
      "  File \"/ext/anaconda3/lib/python3.5/site-packages/urllib3/connectionpool.py\", line 387, in _make_request\n",
      "    six.raise_from(e, None)\n",
      "  File \"<string>\", line 2, in raise_from\n",
      "  File \"/ext/anaconda3/lib/python3.5/site-packages/urllib3/connectionpool.py\", line 383, in _make_request\n",
      "    httplib_response = conn.getresponse()\n",
      "  File \"/ext/anaconda3/lib/python3.5/http/client.py\", line 1198, in getresponse\n",
      "    response.begin()\n",
      "  File \"/ext/anaconda3/lib/python3.5/http/client.py\", line 297, in begin\n",
      "    version, status, reason = self._read_status()\n",
      "  File \"/ext/anaconda3/lib/python3.5/http/client.py\", line 279, in _read_status\n",
      "    raise BadStatusLine(line)\n",
      "http.client.BadStatusLine: ÿ\u0000\u0000\u0000\u0000\u0000\u0000\u0000\u0001\r\u0000Content-Lengt\u0000: 103\r\n",
      "\n",
      "\n",
      "During handling of the above exception, another exception occurred:\n",
      "\n",
      "Traceback (most recent call last):\n",
      "  File \"/home/user/.local/lib/python3.5/site-packages/elasticsearch/connection/http_urllib3.py\", line 149, in perform_request\n",
      "    response = self.pool.urlopen(method, url, body, retries=False, headers=request_headers, **kw)\n",
      "  File \"/ext/anaconda3/lib/python3.5/site-packages/urllib3/connectionpool.py\", line 639, in urlopen\n",
      "    _stacktrace=sys.exc_info()[2])\n",
      "  File \"/ext/anaconda3/lib/python3.5/site-packages/urllib3/util/retry.py\", line 333, in increment\n",
      "    raise six.reraise(type(error), error, _stacktrace)\n",
      "  File \"/ext/anaconda3/lib/python3.5/site-packages/urllib3/packages/six.py\", line 685, in reraise\n",
      "    raise value.with_traceback(tb)\n",
      "  File \"/ext/anaconda3/lib/python3.5/site-packages/urllib3/connectionpool.py\", line 601, in urlopen\n",
      "    chunked=chunked)\n",
      "  File \"/ext/anaconda3/lib/python3.5/site-packages/urllib3/connectionpool.py\", line 387, in _make_request\n",
      "    six.raise_from(e, None)\n",
      "  File \"<string>\", line 2, in raise_from\n",
      "  File \"/ext/anaconda3/lib/python3.5/site-packages/urllib3/connectionpool.py\", line 383, in _make_request\n",
      "    httplib_response = conn.getresponse()\n",
      "  File \"/ext/anaconda3/lib/python3.5/http/client.py\", line 1198, in getresponse\n",
      "    response.begin()\n",
      "  File \"/ext/anaconda3/lib/python3.5/http/client.py\", line 297, in begin\n",
      "    version, status, reason = self._read_status()\n",
      "  File \"/ext/anaconda3/lib/python3.5/http/client.py\", line 279, in _read_status\n",
      "    raise BadStatusLine(line)\n",
      "urllib3.exceptions.ProtocolError: ('Connection aborted.', BadStatusLine('ÿ\\x00\\x00\\x00\\x00\\x00\\x00\\x00\\x01\\x7f\\r\\x00Content-Lengt\\x00: 103\\r\\n',))\n"
     ]
    },
    {
     "name": "stderr",
     "output_type": "stream",
     "text": [
      "WARNING: Some output was deleted.\n"
     ]
    }
   ],
   "source": [
    "doc = {\n",
    "    'author': 'kimchy',\n",
    "    'text': 'Elasticsearch: cool. bonsai cool.',\n",
    "    'timestamp': datetime.now(),\n",
    "}\n",
    "res = es.index(index=\"test-index\", doc_type='tweet', id=1, body=doc)\n",
    "print(res)"
   ]
  },
  {
   "cell_type": "code",
   "execution_count": 0,
   "metadata": {
    "collapsed": false
   },
   "outputs": [
   ],
   "source": [
   ]
  }
 ],
 "metadata": {
  "kernelspec": {
   "display_name": "Python 3 (Anaconda)",
   "language": "python",
   "name": "anaconda3"
  },
  "language_info": {
   "codemirror_mode": {
    "name": "ipython",
    "version": 3
   },
   "file_extension": ".py",
   "mimetype": "text/x-python",
   "name": "python",
   "nbconvert_exporter": "python",
   "pygments_lexer": "ipython3",
   "version": "3.5.5"
  }
 },
 "nbformat": 4,
 "nbformat_minor": 0
}